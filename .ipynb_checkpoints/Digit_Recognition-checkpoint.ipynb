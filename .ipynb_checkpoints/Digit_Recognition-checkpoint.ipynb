{
 "cells": [
  {
   "cell_type": "markdown",
   "metadata": {},
   "source": [
    "# Digit Recognition"
   ]
  },
  {
   "cell_type": "markdown",
   "metadata": {},
   "source": [
    "## Introduction"
   ]
  },
  {
   "cell_type": "markdown",
   "metadata": {},
   "source": [
    "Inside this Notebook I plan to give a brief description of how I created the Digit_Recognition.py script."
   ]
  },
  {
   "cell_type": "markdown",
   "metadata": {},
   "source": [
    "Firstly all of the imports which I needed for this script are listed below"
   ]
  },
  {
   "cell_type": "markdown",
   "metadata": {},
   "source": [
    "import numpy as np \n",
    "\n",
    "import gzip<br>\n",
    "import keras as kr<br>\n",
    "import sklearn.preprocessing as pre<br>\n",
    "import matplotlib.pyplot as plt<br>\n",
    "import PIL<br>\n",
    "from PIL import Image<br>\n",
    "import os.path<br>\n",
    "from keras.models import model_from_json<br>\n",
    "\n"
   ]
  },
  {
   "cell_type": "markdown",
   "metadata": {},
   "source": [
    "The first component of the project is implemented inside of the first neural network. Inside here I create a model using Keras, with 1 hidden layer. The model which I chose was sequential and I used two 'relu' activation functions"
   ]
  },
  {
   "cell_type": "code",
   "execution_count": null,
   "metadata": {},
   "outputs": [],
   "source": [
    "model = kr.models.Sequential()\n",
    "\n",
    "model.add(kr.layers.Dense(units = 512, activation = 'relu', input_dim = 784))\n",
    "model.add(kr.layers.Dense(units = 512, activation = 'relu'))\n",
    "model.add(kr.layers.Dense(units=10, activation='softmax'))\n",
    "\n",
    "\n",
    "model.compile(loss='categorical_crossentropy', optimizer = 'adam', metrics = ['accuracy'])\n",
    "    \n",
    "model.build()"
   ]
  },
  {
   "cell_type": "markdown",
   "metadata": {},
   "source": [
    "After the model has been compiled next we need to train it with our training data"
   ]
  },
  {
   "cell_type": "markdown",
   "metadata": {},
   "source": [
    "**warning: In order to run these files you must first download the training sets, see the reference in mnist data sets for downloads used in this notebook**"
   ]
  },
  {
   "cell_type": "code",
   "execution_count": 1,
   "metadata": {},
   "outputs": [],
   "source": [
    "import gzip\n",
    "\n",
    "with gzip.open('data/train-images-idx3-ubyte.gz', 'rb') as f:\n",
    "    train_img = f.read()\n",
    "    \n",
    "with gzip.open('data/train-labels-idx1-ubyte.gz', 'rb') as f:\n",
    "    train_lbl = f.read()\n"
   ]
  },
  {
   "cell_type": "markdown",
   "metadata": {},
   "source": [
    "After this we just need to save the model and weights to a file so it can be used when comparing our value to a an image the user provides\n"
   ]
  },
  {
   "cell_type": "markdown",
   "metadata": {},
   "source": [
    "model_json = model.to_json()\n",
    "    with open(\"model.json\", \"w\") as json_file:\n",
    "       json_file.write(model_json)\n",
    "   \n",
    "    #save the weights \n",
    "    model.save_weights(\"model.h5\")\n",
    "    print(\"Saved model to disk\")"
   ]
  },
  {
   "cell_type": "markdown",
   "metadata": {},
   "source": [
    "Next I went about trying to take in user input. However in order for our Neural network to process the image we need to convert it into a format it can understand. Firstly the program uses PIL to read in the image and then converts it to greyscale. It then resize the image into 28 by 28 pixel image as this is the format the neural network was trained with. It then passes it to the preparedImage function."
   ]
  },
  {
   "cell_type": "markdown",
   "metadata": {},
   "source": [
    "def userImage(userImg):\n",
    "    #read in the image\n",
    "    image = Image.open(userImg)\n",
    "    #Convert to greyscale\n",
    "    greyImage = image.convert('L')\n",
    "    \n",
    "    \n",
    "    #resize the image to 28 by 28 format as this is what our neural network understands\n",
    "    ResizedImage = greyImage.resize((28,28),Image.BICUBIC)\n",
    "    #print(correct_img.shape)\n",
    "\n",
    "    preparedImage = prepareImage(ResizedImage)\n",
    "    TestAgainstUserImage(preparedImage)"
   ]
  },
  {
   "cell_type": "markdown",
   "metadata": {},
   "source": [
    "Now that the image has been resize and converted to greyscale, we can go about extracting the data. We then need to normalize the data as our neural network is normalized above. After this we just need to reshape the image into a 784 pixel image so it is of the same format as our neural networks training data. It then returns the rebuilt Image to the userImage function."
   ]
  },
  {
   "cell_type": "markdown",
   "metadata": {},
   "source": [
    "def prepareImage(img):\n",
    "    #get all of the pixel values for the data\n",
    "    imageData = list(img.getdata())\n",
    "    #next need to normalise the data as our Neural network has also been normalized multiplying by (1/255) should do\n",
    "    #for i in imageData:\n",
    "    imageData = [(255 - i) * 1.0 / 255.0 for i in imageData]\n",
    "    \n",
    "\n",
    "    #finally rebuild the image\n",
    "    RebuiltImg = np.array(list(imageData)).reshape(1,784)\n",
    "    #used this print statement to make sure the image was resized properly\n",
    "    #print(RebuiltImg)\n",
    "    ## Return the image data\n",
    "    return RebuiltImg\n"
   ]
  },
  {
   "cell_type": "markdown",
   "metadata": {},
   "source": [
    "The menu function is simple and only has one function, to prompt the user to enter a picture they want to compare."
   ]
  },
  {
   "cell_type": "markdown",
   "metadata": {},
   "source": [
    "def Menu():<br>\n",
    "    imageDir = input(\"please enter the path to the image you want to check: \")<br>\n",
    "    userImage(imageDir)"
   ]
  },
  {
   "cell_type": "markdown",
   "metadata": {},
   "source": [
    "Finally I have a main function which simply calls the Menu function which starts the program"
   ]
  },
  {
   "cell_type": "markdown",
   "metadata": {},
   "source": [
    "def main():<br>\n",
    "   Menu()"
   ]
  }
 ],
 "metadata": {
  "kernelspec": {
   "display_name": "Python 3",
   "language": "python",
   "name": "python3"
  },
  "language_info": {
   "codemirror_mode": {
    "name": "ipython",
    "version": 3
   },
   "file_extension": ".py",
   "mimetype": "text/x-python",
   "name": "python",
   "nbconvert_exporter": "python",
   "pygments_lexer": "ipython3",
   "version": "3.6.5"
  }
 },
 "nbformat": 4,
 "nbformat_minor": 2
}
