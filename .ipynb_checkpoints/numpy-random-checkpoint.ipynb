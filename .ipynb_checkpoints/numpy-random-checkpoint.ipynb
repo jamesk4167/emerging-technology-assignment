{
 "cells": [
  {
   "cell_type": "markdown",
   "metadata": {},
   "source": [
    "# Numpy - Random package"
   ]
  },
  {
   "cell_type": "markdown",
   "metadata": {},
   "source": [
    "An important part of python is the ability to generate random numbers. We do this by using the random submodule inside of the numpy module,which comes pre-installed with anaconda. This allows us to generate random numbers with a number of parameters which we use in order to manipulate the data. \n"
   ]
  },
  {
   "cell_type": "markdown",
   "metadata": {},
   "source": [
    "To use this we have to import numpy into our environment and once this has been done we are free to use all of the commands inside of the random sub-module. The random module uses the Mersenne Twister, which is a pseudo random number generator(prng) to generate values. This is the most commonly used PRNG, and was created in 1997 by Makoto Matsumoto."
   ]
  },
  {
   "cell_type": "code",
   "execution_count": 2,
   "metadata": {},
   "outputs": [],
   "source": [
    "import numpy as np\n",
    "import random\n",
    "import matplotlib.pyplot as plt"
   ]
  },
  {
   "cell_type": "markdown",
   "metadata": {},
   "source": [
    "To list all of the different submodules available in the random module we can write dir(random) this will give a list containing all of the different sub-modules which come as part of the random module. I will cover a number of these to show how each morphs the data given to it. "
   ]
  },
  {
   "cell_type": "code",
   "execution_count": 5,
   "metadata": {
    "scrolled": true
   },
   "outputs": [
    {
     "data": {
      "text/plain": [
       "['BPF',\n",
       " 'LOG4',\n",
       " 'NV_MAGICCONST',\n",
       " 'RECIP_BPF',\n",
       " 'Random',\n",
       " 'SG_MAGICCONST',\n",
       " 'SystemRandom',\n",
       " 'TWOPI',\n",
       " '_BuiltinMethodType',\n",
       " '_MethodType',\n",
       " '_Sequence',\n",
       " '_Set',\n",
       " '__all__',\n",
       " '__builtins__',\n",
       " '__cached__',\n",
       " '__doc__',\n",
       " '__file__',\n",
       " '__loader__',\n",
       " '__name__',\n",
       " '__package__',\n",
       " '__spec__',\n",
       " '_acos',\n",
       " '_bisect',\n",
       " '_ceil',\n",
       " '_cos',\n",
       " '_e',\n",
       " '_exp',\n",
       " '_inst',\n",
       " '_itertools',\n",
       " '_log',\n",
       " '_pi',\n",
       " '_random',\n",
       " '_sha512',\n",
       " '_sin',\n",
       " '_sqrt',\n",
       " '_test',\n",
       " '_test_generator',\n",
       " '_urandom',\n",
       " '_warn',\n",
       " 'betavariate',\n",
       " 'choice',\n",
       " 'choices',\n",
       " 'expovariate',\n",
       " 'gammavariate',\n",
       " 'gauss',\n",
       " 'getrandbits',\n",
       " 'getstate',\n",
       " 'lognormvariate',\n",
       " 'normalvariate',\n",
       " 'paretovariate',\n",
       " 'randint',\n",
       " 'random',\n",
       " 'randrange',\n",
       " 'sample',\n",
       " 'seed',\n",
       " 'setstate',\n",
       " 'shuffle',\n",
       " 'triangular',\n",
       " 'uniform',\n",
       " 'vonmisesvariate',\n",
       " 'weibullvariate']"
      ]
     },
     "execution_count": 5,
     "metadata": {},
     "output_type": "execute_result"
    }
   ],
   "source": [
    "dir(random)"
   ]
  },
  {
   "cell_type": "code",
   "execution_count": null,
   "metadata": {},
   "outputs": [],
   "source": []
  },
  {
   "cell_type": "markdown",
   "metadata": {},
   "source": [
    "# random.random"
   ]
  },
  {
   "cell_type": "code",
   "execution_count": 9,
   "metadata": {},
   "outputs": [
    {
     "name": "stdout",
     "output_type": "stream",
     "text": [
      "Help on built-in function random:\n",
      "\n",
      "random(...) method of random.Random instance\n",
      "    random() -> x in the interval [0, 1).\n",
      "\n",
      "None\n"
     ]
    }
   ],
   "source": [
    "print(help(random.random))"
   ]
  },
  {
   "cell_type": "markdown",
   "metadata": {},
   "source": [
    "The square bracket before 0 means that the random package can have a zero inside of it, but the curley bracket after the 1 means that 1 will never be used."
   ]
  },
  {
   "cell_type": "code",
   "execution_count": 10,
   "metadata": {},
   "outputs": [
    {
     "name": "stdout",
     "output_type": "stream",
     "text": [
      "0.13983720439659764\n",
      "0.14993570485221275\n",
      "0.46676269359891387\n",
      "0.2976238828027825\n",
      "0.5045796668398151\n",
      "0.0378487944528213\n",
      "0.0822775001474213\n",
      "0.2560840678700187\n",
      "0.34881259621170524\n",
      "0.0709268109005432\n"
     ]
    }
   ],
   "source": [
    "for i in range(10):\n",
    "    x = random.random()\n",
    "    print(x)"
   ]
  },
  {
   "cell_type": "markdown",
   "metadata": {},
   "source": [
    "The above function prints 10 random numbers in between the values of 0 and 1. These numbers should be reset every time you run the function, as the for loop creates new random numbers at each stage. The random function implements the uniform status, meaning there is an equal chance of every number any number being created between 0 and 1. If we want to create numbers inside of a different range using this method, we must write a function. To have the numbers generated in a different range we can do as follows: To generate random numbers between [5,9)."
   ]
  },
  {
   "cell_type": "code",
   "execution_count": 40,
   "metadata": {},
   "outputs": [
    {
     "data": {
      "image/png": "[encoded data removed]",
      "text/plain": [
       "<Figure size 432x288 with 1 Axes>"
      ]
     },
     "metadata": {},
     "output_type": "display_data"
    }
   ],
   "source": [
    "for i in range(10):\n",
    "    x = ((random.random() * 4) + 5)\n",
    "    plt.plot(x, 'b.')\n",
    "    plt.title(\"random floating point numbers between 5 and 9\")"
   ]
  },
  {
   "cell_type": "markdown",
   "metadata": {},
   "source": [
    "Above we use the same for loop as we did to create the first random numbers, but this time firstly we multiply the value by 4,so that we can scale the random numbers to the range we are looking for. Then we add 5 so that all of our numbers have been shifted into the range which we want."
   ]
  },
  {
   "cell_type": "markdown",
   "metadata": {},
   "source": [
    "However, this quickly becomes tedious. To make life easier numpy has the random.uniform function, which allows us to create random values in any given interval"
   ]
  },
  {
   "cell_type": "markdown",
   "metadata": {},
   "source": [
    "# random.uniform"
   ]
  },
  {
   "cell_type": "code",
   "execution_count": 16,
   "metadata": {},
   "outputs": [
    {
     "name": "stdout",
     "output_type": "stream",
     "text": [
      "Help on method uniform in module random:\n",
      "\n",
      "uniform(a, b) method of random.Random instance\n",
      "    Get a random number in the range [a, b) or [a, b] depending on rounding.\n",
      "\n"
     ]
    }
   ],
   "source": [
    "help(random.uniform)"
   ]
  },
  {
   "cell_type": "markdown",
   "metadata": {},
   "source": [
    "To use this function we simply need to do as follows:"
   ]
  },
  {
   "cell_type": "code",
   "execution_count": 17,
   "metadata": {},
   "outputs": [
    {
     "name": "stdout",
     "output_type": "stream",
     "text": [
      "5.078720626229654\n",
      "5.309728219056759\n",
      "6.960047095135275\n",
      "7.679405820939418\n",
      "8.226313513837269\n",
      "8.324058102280027\n",
      "6.744482308752211\n",
      "6.359921341385164\n",
      "6.125533569744784\n",
      "8.92186035332417\n"
     ]
    }
   ],
   "source": [
    "for i in range(10):\n",
    "    print(random.uniform(5,9))"
   ]
  },
  {
   "cell_type": "markdown",
   "metadata": {},
   "source": [
    "This is much less time consuming to write out instead of having to create a function every time we want to scale or shift our range."
   ]
  },
  {
   "cell_type": "markdown",
   "metadata": {},
   "source": [
    "# Normalisation"
   ]
  },
  {
   "cell_type": "markdown",
   "metadata": {},
   "source": [
    "While random and uniform are both uniform distributions, this is only one form of distribution. There are a number of other variants, with the most commonly used being the normalised distribution or the bell curve. To use the normalisation distribution we have to set the mean(which is the most common number) and the standard deviation. The standard deviation is how far away the number will stray from the mean."
   ]
  },
  {
   "cell_type": "code",
   "execution_count": 19,
   "metadata": {},
   "outputs": [
    {
     "data": {
      "image/png": "[encoded data removed]",
      "text/plain": [
       "<Figure size 432x288 with 1 Axes>"
      ]
     },
     "metadata": {},
     "output_type": "display_data"
    }
   ],
   "source": [
    "for i in range(10):\n",
    "    x = random.normalvariate(5,2)\n",
    "    plt.plot(x, '*')\n",
    "    "
   ]
  },
  {
   "cell_type": "markdown",
   "metadata": {},
   "source": [
    "Above we have 10 values, centred around 5 and with only a standard deviation of 2. If we change the five to another number then the numbers will tend to bunch around this number. Changing the standard deviation results in either a smaller or larger range of values."
   ]
  },
  {
   "cell_type": "markdown",
   "metadata": {},
   "source": [
    "# Randint(min, max)"
   ]
  },
  {
   "cell_type": "markdown",
   "metadata": {},
   "source": [
    "Sometimes however we do not want to have random numbers from a infinited list, say if you wanted to simulate the result of rolling a dice, to do this we use the randInt function(), giving it the lowest possible value and the highest possible values as parameters."
   ]
  },
  {
   "cell_type": "code",
   "execution_count": 28,
   "metadata": {},
   "outputs": [
    {
     "name": "stdout",
     "output_type": "stream",
     "text": [
      "2\n",
      "4\n",
      "2\n",
      "2\n",
      "4\n",
      "5\n",
      "5\n",
      "5\n",
      "1\n",
      "5\n"
     ]
    }
   ],
   "source": [
    "for i in range(10):\n",
    "    print(random.randint(1,6))"
   ]
  },
  {
   "cell_type": "markdown",
   "metadata": {},
   "source": [
    "This makes sure that all of the values given are whole numbers between 1 and 6. "
   ]
  },
  {
   "cell_type": "markdown",
   "metadata": {},
   "source": [
    "# Taking random value from a list"
   ]
  },
  {
   "cell_type": "markdown",
   "metadata": {},
   "source": [
    "If we want to select random objects from a list we can use the choice option, and allowing it to randomly pick items from the array we create. Say we want to create a rock, paper, scissors game. We can setup the list to take the 3 parameters, and then use the random module to pick each of these at random.\n",
    "    "
   ]
  },
  {
   "cell_type": "code",
   "execution_count": 32,
   "metadata": {},
   "outputs": [
    {
     "name": "stdout",
     "output_type": "stream",
     "text": [
      "Scissors\n",
      "Scissors\n",
      "Paper\n",
      "Paper\n",
      "Rock\n",
      "Rock\n",
      "Rock\n",
      "Paper\n",
      "Scissors\n",
      "Paper\n"
     ]
    }
   ],
   "source": [
    "outcomes = ['Rock', 'Paper', 'Scissors']\n",
    "\n",
    "for i in range(10):\n",
    "    print(random.choice(outcomes))"
   ]
  },
  {
   "cell_type": "markdown",
   "metadata": {},
   "source": [
    "However, having to write a for loop here is not ideal as it wastes our time. Instead we can use choices instead of choice which is shown as follows: Here the k represents the amount of times we want the code to execute."
   ]
  },
  {
   "cell_type": "code",
   "execution_count": 45,
   "metadata": {},
   "outputs": [
    {
     "name": "stdout",
     "output_type": "stream",
     "text": [
      "['Rock', 'Rock', 'Scissors', 'Scissors', 'Scissors', 'Rock', 'Scissors', 'Paper', 'Rock', 'Paper']\n"
     ]
    }
   ],
   "source": [
    "result = random.choices(outcomes, k=10)\n",
    "print(result)"
   ]
  },
  {
   "cell_type": "markdown",
   "metadata": {},
   "source": [
    "This example shows how to use the choices option when all of the outcomes have the same probability of occuring. However in real life this is not very likely. To deal with this we can add weights to the outcomes. A good example of how weights work would be to use a roulette wheel as an example, on a roullette wheel there are 18 red spaces, 18 black spaces and 2 green spots. To get the likelihood of each event actually occuring we use the following "
   ]
  },
  {
   "cell_type": "code",
   "execution_count": 35,
   "metadata": {},
   "outputs": [
    {
     "name": "stdout",
     "output_type": "stream",
     "text": [
      "['red', 'black', 'green', 'red', 'black', 'red', 'red', 'black', 'red', 'black', 'red', 'red', 'red', 'red', 'red', 'black', 'green', 'black', 'green', 'red', 'black', 'red', 'red', 'black', 'black', 'red', 'red', 'black', 'black', 'black', 'black', 'red', 'black', 'red', 'black', 'black', 'black', 'red', 'red', 'black', 'black', 'black', 'red', 'black', 'black', 'black', 'red', 'red', 'black', 'black', 'black', 'red', 'black', 'red', 'black', 'black', 'red', 'red', 'black', 'black', 'black', 'black', 'red', 'black', 'green', 'red', 'black', 'black', 'red', 'black', 'red', 'black', 'black', 'red', 'red', 'black', 'red', 'green', 'black', 'red', 'red', 'red', 'red', 'black', 'black', 'red', 'red', 'red', 'red', 'black', 'black', 'red', 'green', 'red', 'black', 'red', 'black', 'red', 'red', 'black']\n"
     ]
    }
   ],
   "source": [
    "colors = ['red', 'black', 'green']\n",
    "\n",
    "resultWithWeight = random.choices(colors,weights = [18, 18, 2], k=100)\n",
    "print(resultWithWeight)\n"
   ]
  },
  {
   "cell_type": "markdown",
   "metadata": {},
   "source": [
    "Another useful feature of the random module is the shuffle option. This will take in a range of values or a list and randomly move them around. This can be best shown by using a deck of cards as the example. "
   ]
  },
  {
   "cell_type": "code",
   "execution_count": 12,
   "metadata": {},
   "outputs": [
    {
     "name": "stdout",
     "output_type": "stream",
     "text": [
      "[1, 2, 3, 4, 5, 6, 7, 8, 9, 10, 11, 12, 13, 14, 15, 16, 17, 18, 19, 20, 21, 22, 23, 24, 25, 26, 27, 28, 29, 30, 31, 32, 33, 34, 35, 36, 37, 38, 39, 40, 41, 42, 43, 44, 45, 46, 47, 48, 49, 50, 51, 52]\n",
      "===================================\n",
      "[36, 31, 51, 9, 27, 18, 38, 11, 6, 47, 5, 8, 23, 15, 43, 19, 26, 1, 22, 49, 21, 12, 37, 24, 41, 28, 25, 45, 10, 40, 39, 33, 14, 44, 30, 32, 48, 29, 52, 3, 42, 20, 17, 50, 13, 46, 16, 35, 34, 4, 2, 7]\n"
     ]
    }
   ],
   "source": [
    "deck = list(range(1,53))\n",
    "print(deck)\n",
    "\n",
    "print(\"===================================\")\n",
    "\n",
    "random.shuffle(deck)\n",
    "print(deck)\n"
   ]
  },
  {
   "cell_type": "markdown",
   "metadata": {},
   "source": [
    "Now as you can see the deck has been randomly shuffled with the values all in different places. If we then want to generate hands for the players to use we can use the sample method. The sample method takes the array which you want to look through and the number of samples you want to get from it."
   ]
  },
  {
   "cell_type": "code",
   "execution_count": 13,
   "metadata": {},
   "outputs": [
    {
     "name": "stdout",
     "output_type": "stream",
     "text": [
      "[30, 2, 17, 36, 14]\n"
     ]
    }
   ],
   "source": [
    "hand = random.sample(deck, k = 5)\n",
    "print(hand)"
   ]
  },
  {
   "cell_type": "markdown",
   "metadata": {},
   "source": [
    "# MatplotLib"
   ]
  },
  {
   "cell_type": "markdown",
   "metadata": {},
   "source": [
    "MatplotLib is a python module which allows for the creation of various charts and graphs. We use it mainly as a way to visualize out data, thus making trends easier to see. The most basic type of graph available to us is a barchart with an example being shown below."
   ]
  },
  {
   "cell_type": "code",
   "execution_count": 39,
   "metadata": {},
   "outputs": [
    {
     "data": {
      "image/png": "[encoded data removed]",
      "text/plain": [
       "<Figure size 432x288 with 1 Axes>"
      ]
     },
     "metadata": {},
     "output_type": "display_data"
    }
   ],
   "source": [
    "objects = ('Python', 'C++', 'Java', 'Perl', 'Scala', 'Lisp')\n",
    "y_pos = np.arange(len(objects))\n",
    "performance = [10,8,6,4,2,1]\n",
    " \n",
    "plt.bar(y_pos, performance, align='center', alpha=0.5)\n",
    "plt.xticks(y_pos, objects)\n",
    "plt.ylabel('Usage')\n",
    "plt.title('Programming language usage')\n",
    " \n",
    "plt.show()"
   ]
  },
  {
   "cell_type": "markdown",
   "metadata": {},
   "source": [
    "However it can also be used to create various other types of charts, such as a pie chart"
   ]
  },
  {
   "cell_type": "code",
   "execution_count": 3,
   "metadata": {},
   "outputs": [
    {
     "data": {
      "image/png": "[encoded data removed]",
      "text/plain": [
       "<Figure size 432x288 with 1 Axes>"
      ]
     },
     "metadata": {},
     "output_type": "display_data"
    }
   ],
   "source": [
    "\n",
    "\n",
    "# Pie chart, where the slices will be ordered and plotted counter-clockwise:\n",
    "labels = 'Sheeps', 'Horses', 'Lions', 'Hogs'\n",
    "sizes = [15, 30, 45, 10]\n",
    "explode = (0, 0.1, 0, 0)  # only \"explode\" the 2nd slice (i.e. 'Hogs')\n",
    "\n",
    "fig1, ax1 = plt.subplots()\n",
    "ax1.pie(sizes, explode=explode, labels=labels, autopct='%1.1f%%',\n",
    "        shadow=True, startangle=90)\n",
    "ax1.axis('equal')  # Equal aspect ratio ensures that pie is drawn as a circle.\n",
    "\n",
    "plt.show()"
   ]
  },
  {
   "cell_type": "markdown",
   "metadata": {},
   "source": [
    "or a histogram."
   ]
  },
  {
   "cell_type": "code",
   "execution_count": 28,
   "metadata": {},
   "outputs": [
    {
     "data": {
      "image/png": "[encoded data removed]",
      "text/plain": [
       "<Figure size 432x288 with 1 Axes>"
      ]
     },
     "metadata": {},
     "output_type": "display_data"
    }
   ],
   "source": [
    "x = [21,22,23,4,5,6,77,8,9,10,31,32,33,34,35,36,37,18,49,50,100]\n",
    "num_bins = 5\n",
    "n, bins, patches = plt.hist(x, num_bins, facecolor='red', alpha=0.2)\n",
    "plt.show()"
   ]
  },
  {
   "cell_type": "code",
   "execution_count": null,
   "metadata": {},
   "outputs": [],
   "source": []
  }
 ],
 "metadata": {
  "kernelspec": {
   "display_name": "Python 3",
   "language": "python",
   "name": "python3"
  },
  "language_info": {
   "codemirror_mode": {
    "name": "ipython",
    "version": 3
   },
   "file_extension": ".py",
   "mimetype": "text/x-python",
   "name": "python",
   "nbconvert_exporter": "python",
   "pygments_lexer": "ipython3",
   "version": "3.6.5"
  }
 },
 "nbformat": 4,
 "nbformat_minor": 2
}
