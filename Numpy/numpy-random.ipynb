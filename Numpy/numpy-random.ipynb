{
 "cells": [
  {
   "cell_type": "markdown",
   "metadata": {},
   "source": [
    "# Numpy"
   ]
  },
  {
   "cell_type": "markdown",
   "metadata": {},
   "source": [
    "![](pictures/numpy.png)"
   ]
  },
  {
   "cell_type": "markdown",
   "metadata": {},
   "source": [
    "Numpy is the fundamental package for scientific computing with python. It adds support for large, multi-dimensional arrays and Matrices, along with a wide variety of mathematical functions with which we can manipulate these arrays"
   ]
  },
  {
   "cell_type": "markdown",
   "metadata": {},
   "source": [
    "## Example of a numpy array"
   ]
  },
  {
   "cell_type": "markdown",
   "metadata": {},
   "source": [
    "Firstly to use the numpy module inside of our jupyter notebook we need to import it"
   ]
  },
  {
   "cell_type": "code",
   "execution_count": 1,
   "metadata": {},
   "outputs": [],
   "source": [
    "import numpy as np"
   ]
  },
  {
   "cell_type": "markdown",
   "metadata": {},
   "source": [
    "Now that it has been import we are free to use it through out our program."
   ]
  },
  {
   "cell_type": "code",
   "execution_count": 2,
   "metadata": {},
   "outputs": [],
   "source": [
    "x = np.arange(20)"
   ]
  },
  {
   "cell_type": "markdown",
   "metadata": {},
   "source": [
    "Now that we have created an order array with the help of numpy we can show that the process works by simply showing the array. As you can see the numbers are ordered from 0 to 19, as numbers start at zero in python"
   ]
  },
  {
   "cell_type": "code",
   "execution_count": 3,
   "metadata": {},
   "outputs": [
    {
     "data": {
      "text/plain": [
       "array([ 0,  1,  2,  3,  4,  5,  6,  7,  8,  9, 10, 11, 12, 13, 14, 15, 16,\n",
       "       17, 18, 19])"
      ]
     },
     "execution_count": 3,
     "metadata": {},
     "output_type": "execute_result"
    }
   ],
   "source": [
    "x"
   ]
  },
  {
   "cell_type": "markdown",
   "metadata": {},
   "source": [
    "## Numpy - Random package"
   ]
  },
  {
   "cell_type": "markdown",
   "metadata": {},
   "source": [
    "An important part of python is the ability to generate random numbers. We do this by using the random submodule inside of the numpy module. This allows us to generate random values with a number of parameters which we use in order to manipulate the data. \n"
   ]
  },
  {
   "cell_type": "markdown",
   "metadata": {},
   "source": [
    "To use this we have to import numpy into our environment and once this has been done we are free to use all of the commands inside of the random sub-module. The random module uses the Mersenne Twister, which is a pseudo random number generator(prng) to generate values. This is the most commonly used PRNG, and was created in 1997 by Makoto Matsumoto."
   ]
  },
  {
   "cell_type": "code",
   "execution_count": 4,
   "metadata": {},
   "outputs": [],
   "source": [
    "import numpy as np\n",
    "import random\n",
    "import matplotlib.pyplot as plt"
   ]
  },
  {
   "cell_type": "markdown",
   "metadata": {},
   "source": [
    "To list all of the different submodules available in the random module we can write dir(random) this will give a list containing all of the different sub-modules which come as part of the random module. I will cover a number of these to show how each morphs the data given to it. "
   ]
  },
  {
   "cell_type": "code",
   "execution_count": 5,
   "metadata": {
    "scrolled": true
   },
   "outputs": [
    {
     "data": {
      "text/plain": [
       "['BPF',\n",
       " 'LOG4',\n",
       " 'NV_MAGICCONST',\n",
       " 'RECIP_BPF',\n",
       " 'Random',\n",
       " 'SG_MAGICCONST',\n",
       " 'SystemRandom',\n",
       " 'TWOPI',\n",
       " '_BuiltinMethodType',\n",
       " '_MethodType',\n",
       " '_Sequence',\n",
       " '_Set',\n",
       " '__all__',\n",
       " '__builtins__',\n",
       " '__cached__',\n",
       " '__doc__',\n",
       " '__file__',\n",
       " '__loader__',\n",
       " '__name__',\n",
       " '__package__',\n",
       " '__spec__',\n",
       " '_acos',\n",
       " '_bisect',\n",
       " '_ceil',\n",
       " '_cos',\n",
       " '_e',\n",
       " '_exp',\n",
       " '_inst',\n",
       " '_itertools',\n",
       " '_log',\n",
       " '_pi',\n",
       " '_random',\n",
       " '_sha512',\n",
       " '_sin',\n",
       " '_sqrt',\n",
       " '_test',\n",
       " '_test_generator',\n",
       " '_urandom',\n",
       " '_warn',\n",
       " 'betavariate',\n",
       " 'choice',\n",
       " 'choices',\n",
       " 'expovariate',\n",
       " 'gammavariate',\n",
       " 'gauss',\n",
       " 'getrandbits',\n",
       " 'getstate',\n",
       " 'lognormvariate',\n",
       " 'normalvariate',\n",
       " 'paretovariate',\n",
       " 'randint',\n",
       " 'random',\n",
       " 'randrange',\n",
       " 'sample',\n",
       " 'seed',\n",
       " 'setstate',\n",
       " 'shuffle',\n",
       " 'triangular',\n",
       " 'uniform',\n",
       " 'vonmisesvariate',\n",
       " 'weibullvariate']"
      ]
     },
     "execution_count": 5,
     "metadata": {},
     "output_type": "execute_result"
    }
   ],
   "source": [
    "dir(random)"
   ]
  },
  {
   "cell_type": "markdown",
   "metadata": {},
   "source": [
    "# random.random"
   ]
  },
  {
   "cell_type": "markdown",
   "metadata": {},
   "source": [
    "The first element to be examined is numpys random.random function. This returns pseudo random numbers in the closed range [0, 1). "
   ]
  },
  {
   "cell_type": "code",
   "execution_count": 6,
   "metadata": {},
   "outputs": [
    {
     "name": "stdout",
     "output_type": "stream",
     "text": [
      "Help on built-in function random:\n",
      "\n",
      "random(...) method of random.Random instance\n",
      "    random() -> x in the interval [0, 1).\n",
      "\n",
      "None\n"
     ]
    }
   ],
   "source": [
    "print(help(random.random))"
   ]
  },
  {
   "cell_type": "markdown",
   "metadata": {},
   "source": []
  },
  {
   "cell_type": "code",
   "execution_count": 7,
   "metadata": {},
   "outputs": [
    {
     "name": "stdout",
     "output_type": "stream",
     "text": [
      "0.8613029620136476\n",
      "0.6534152746797008\n",
      "0.5430808309843637\n",
      "0.41968724410911695\n",
      "0.7610660278207193\n",
      "0.9504890236937055\n",
      "0.40102327300161844\n",
      "0.8370062562329432\n",
      "0.44355931919720626\n",
      "0.12011803802905285\n"
     ]
    }
   ],
   "source": [
    "for i in range(10):\n",
    "    x = random.random()\n",
    "    print(x)"
   ]
  },
  {
   "cell_type": "markdown",
   "metadata": {},
   "source": [
    "The above function prints 10 random numbers in between the values of 0 and 1. These numbers should be reset every time you run the function, as the for loop creates new random numbers at each stage. The random function implements the uniform status, meaning there is an equal chance of every number any number being created between 0 and 1. If we want to create numbers inside of a different range using this method, we must write a function. To have the numbers generated in a different range we can do as follows: To generate random numbers between [5,9)."
   ]
  },
  {
   "cell_type": "code",
   "execution_count": 8,
   "metadata": {},
   "outputs": [
    {
     "data": {
      "image/png": "[encoded data removed]",
      "text/plain": [
       "<Figure size 432x288 with 1 Axes>"
      ]
     },
     "metadata": {},
     "output_type": "display_data"
    }
   ],
   "source": [
    "for i in range(10):\n",
    "    x = ((random.random() * 4) + 5)\n",
    "    plt.plot(x, 'b.')\n",
    "    plt.title(\"random floating point numbers between 5 and 9\")"
   ]
  },
  {
   "cell_type": "markdown",
   "metadata": {},
   "source": [
    "Above we use the same for loop as we did to create the first random numbers, but this time firstly we multiply the value by 4,so that we can scale the random numbers to the range we are looking for. Then we add 5 so that all of our numbers have been shifted into the range which we want."
   ]
  },
  {
   "cell_type": "markdown",
   "metadata": {},
   "source": [
    "However, this quickly becomes tedious. To make life easier numpy has the random.uniform function, which allows us to create random values in any given interval"
   ]
  },
  {
   "cell_type": "markdown",
   "metadata": {},
   "source": [
    "# random.uniform"
   ]
  },
  {
   "cell_type": "code",
   "execution_count": 9,
   "metadata": {},
   "outputs": [
    {
     "name": "stdout",
     "output_type": "stream",
     "text": [
      "Help on method uniform in module random:\n",
      "\n",
      "uniform(a, b) method of random.Random instance\n",
      "    Get a random number in the range [a, b) or [a, b] depending on rounding.\n",
      "\n"
     ]
    }
   ],
   "source": [
    "help(random.uniform)"
   ]
  },
  {
   "cell_type": "markdown",
   "metadata": {},
   "source": [
    "To use this function we simply need to do as follows:"
   ]
  },
  {
   "cell_type": "code",
   "execution_count": 10,
   "metadata": {},
   "outputs": [
    {
     "name": "stdout",
     "output_type": "stream",
     "text": [
      "5.468744484166743\n",
      "8.325306071365993\n",
      "5.071769544862088\n",
      "8.320374979440238\n",
      "7.337274349717788\n",
      "7.901086120367698\n",
      "7.284108449672931\n",
      "6.180944993935112\n",
      "7.561190419122497\n",
      "8.363031391966604\n"
     ]
    }
   ],
   "source": [
    "for i in range(10):\n",
    "    print(random.uniform(5,9))"
   ]
  },
  {
   "cell_type": "markdown",
   "metadata": {},
   "source": [
    "This is much less time consuming to write out instead of having to create a function every time we want to scale or shift our range."
   ]
  },
  {
   "cell_type": "markdown",
   "metadata": {},
   "source": [
    "# Normalisation"
   ]
  },
  {
   "cell_type": "markdown",
   "metadata": {},
   "source": [
    "While random and uniform are both uniform distributions, this is only one form of distribution. There are a number of other variants, with the most commonly used being the normalised distribution or the bell curve. To use the normalisation distribution we have to set the mean(which is the most common number) and the standard deviation. The standard deviation is how far away the number will stray from the mean."
   ]
  },
  {
   "cell_type": "code",
   "execution_count": 11,
   "metadata": {},
   "outputs": [
    {
     "name": "stdout",
     "output_type": "stream",
     "text": [
      "4.6007268925312825\n",
      "5.331844063824784\n",
      "8.663333130274127\n",
      "3.7527934027903402\n",
      "3.320054000074697\n",
      "6.628369586811819\n",
      "4.423185080399676\n",
      "4.055183664056922\n",
      "3.6558346133232478\n",
      "6.049631003980636\n"
     ]
    }
   ],
   "source": [
    "for i in range(10):\n",
    "    x = random.normalvariate(5,2)\n",
    "    print(x)\n",
    "    "
   ]
  },
  {
   "cell_type": "markdown",
   "metadata": {},
   "source": [
    "Above we have 10 values, centred around 5 and with only a standard deviation of 2. If we change the five to another number then the numbers will tend to bunch around this number. Changing the standard deviation results in either a smaller or larger range of values."
   ]
  },
  {
   "cell_type": "code",
   "execution_count": 12,
   "metadata": {},
   "outputs": [
    {
     "data": {
      "image/png": "[encoded data removed]",
      "text/plain": [
       "<Figure size 432x288 with 1 Axes>"
      ]
     },
     "metadata": {},
     "output_type": "display_data"
    }
   ],
   "source": [
    "plt.hist(x)\n",
    "plt.show()"
   ]
  },
  {
   "cell_type": "markdown",
   "metadata": {},
   "source": [
    "## Random.bytes"
   ]
  },
  {
   "cell_type": "markdown",
   "metadata": {},
   "source": [
    "Numpy also has an in built function with which to manipulate bytes. The below code will print 20 random bytes."
   ]
  },
  {
   "cell_type": "code",
   "execution_count": 13,
   "metadata": {},
   "outputs": [
    {
     "data": {
      "text/plain": [
       "b'#\\x1e=\\x95\\x86\\x00\\x8a\\xd7\\x83$\\n\\xccxY\\xd7\\xba\\xf68n\\x98'"
      ]
     },
     "execution_count": 13,
     "metadata": {},
     "output_type": "execute_result"
    }
   ],
   "source": [
    "np.random.bytes(20)"
   ]
  },
  {
   "cell_type": "markdown",
   "metadata": {},
   "source": [
    "## Randint(min, max)"
   ]
  },
  {
   "cell_type": "markdown",
   "metadata": {},
   "source": [
    "Sometimes however we do not want to have random numbers from a infinited list, say if you wanted to simulate the result of rolling a dice, to do this we use the randInt function(), giving it the lowest possible value and the highest possible values as parameters."
   ]
  },
  {
   "cell_type": "code",
   "execution_count": 14,
   "metadata": {},
   "outputs": [
    {
     "name": "stdout",
     "output_type": "stream",
     "text": [
      "6\n",
      "6\n",
      "6\n",
      "2\n",
      "3\n",
      "2\n",
      "4\n",
      "5\n",
      "5\n",
      "6\n"
     ]
    }
   ],
   "source": [
    "for i in range(10):\n",
    "    print(random.randint(1,6))"
   ]
  },
  {
   "cell_type": "markdown",
   "metadata": {},
   "source": [
    "This makes sure that all of the values given are whole numbers between 1 and 6. "
   ]
  },
  {
   "cell_type": "markdown",
   "metadata": {},
   "source": [
    "# Taking random value from a list"
   ]
  },
  {
   "cell_type": "markdown",
   "metadata": {},
   "source": [
    "If we want to select random objects from a list we can use the choice option, and allowing it to randomly pick items from the array we create. Say we want to create a rock, paper, scissors game. We can setup the list to take the 3 parameters, and then use the random module to pick each of these at random.\n",
    "    "
   ]
  },
  {
   "cell_type": "code",
   "execution_count": 15,
   "metadata": {},
   "outputs": [
    {
     "name": "stdout",
     "output_type": "stream",
     "text": [
      "Rock\n",
      "Scissors\n",
      "Scissors\n",
      "Rock\n",
      "Paper\n",
      "Scissors\n",
      "Paper\n",
      "Scissors\n",
      "Paper\n",
      "Scissors\n"
     ]
    }
   ],
   "source": [
    "outcomes = ['Rock', 'Paper', 'Scissors']\n",
    "\n",
    "for i in range(10):\n",
    "    print(random.choice(outcomes))"
   ]
  },
  {
   "cell_type": "markdown",
   "metadata": {},
   "source": [
    "However, having to write a for loop here is not ideal as it wastes our time. Instead we can use choices instead of choice which is shown as follows: Here the k represents the amount of times we want the code to execute."
   ]
  },
  {
   "cell_type": "code",
   "execution_count": 16,
   "metadata": {},
   "outputs": [
    {
     "name": "stdout",
     "output_type": "stream",
     "text": [
      "['Rock', 'Rock', 'Scissors', 'Scissors', 'Rock', 'Scissors', 'Paper', 'Scissors', 'Rock', 'Paper']\n"
     ]
    }
   ],
   "source": [
    "result = random.choices(outcomes, k=10)\n",
    "print(result)"
   ]
  },
  {
   "cell_type": "markdown",
   "metadata": {},
   "source": [
    "This example shows how to use the choices option when all of the outcomes have the same probability of occuring. However in real life this is not very likely. To deal with this we can add weights to the outcomes. A good example of how weights work would be to use a roulette wheel as an example, on a roullette wheel there are 18 red spaces, 18 black spaces and 2 green spots. To get the likelihood of each event actually occuring we use the following "
   ]
  },
  {
   "cell_type": "code",
   "execution_count": 17,
   "metadata": {},
   "outputs": [
    {
     "name": "stdout",
     "output_type": "stream",
     "text": [
      "['red', 'black', 'black', 'red', 'black', 'red', 'red', 'red', 'red', 'black', 'black', 'red', 'red', 'red', 'red', 'red', 'black', 'black', 'red', 'green', 'black', 'red', 'green', 'red', 'black', 'red', 'red', 'red', 'red', 'red', 'red', 'black', 'black', 'black', 'black', 'red', 'red', 'black', 'black', 'red', 'black', 'red', 'red', 'red', 'black', 'red', 'red', 'green', 'black', 'red', 'red', 'black', 'red', 'black', 'red', 'red', 'black', 'black', 'red', 'black', 'red', 'black', 'black', 'red', 'black', 'red', 'red', 'black', 'green', 'red', 'black', 'red', 'red', 'red', 'red', 'black', 'black', 'red', 'red', 'red', 'red', 'black', 'black', 'red', 'black', 'black', 'red', 'red', 'red', 'red', 'black', 'black', 'black', 'black', 'red', 'red', 'black', 'red', 'green', 'black']\n"
     ]
    }
   ],
   "source": [
    "colors = ['red', 'black', 'green']\n",
    "\n",
    "resultWithWeight = random.choices(colors,weights = [18, 18, 2], k=100)\n",
    "print(resultWithWeight)\n"
   ]
  },
  {
   "cell_type": "code",
   "execution_count": 22,
   "metadata": {},
   "outputs": [
    {
     "data": {
      "image/png": "[encoded data removed]",
      "text/plain": [
       "<Figure size 432x288 with 1 Axes>"
      ]
     },
     "metadata": {},
     "output_type": "display_data"
    }
   ],
   "source": [
    "plt.hist(resultWithWeight)\n",
    "plt.show()"
   ]
  },
  {
   "cell_type": "markdown",
   "metadata": {},
   "source": [
    "Another useful feature of the random module is the shuffle option. This will take in a range of values or a list and randomly move them around. This can be best shown by using a deck of cards as the example. "
   ]
  },
  {
   "cell_type": "code",
   "execution_count": 18,
   "metadata": {},
   "outputs": [
    {
     "name": "stdout",
     "output_type": "stream",
     "text": [
      "[1, 2, 3, 4, 5, 6, 7, 8, 9, 10, 11, 12, 13, 14, 15, 16, 17, 18, 19, 20, 21, 22, 23, 24, 25, 26, 27, 28, 29, 30, 31, 32, 33, 34, 35, 36, 37, 38, 39, 40, 41, 42, 43, 44, 45, 46, 47, 48, 49, 50, 51, 52]\n",
      "===================================\n",
      "[13, 19, 50, 26, 21, 23, 11, 47, 16, 42, 48, 9, 25, 3, 15, 35, 28, 6, 43, 45, 52, 1, 18, 31, 51, 49, 12, 7, 34, 4, 5, 39, 37, 44, 17, 8, 33, 29, 20, 40, 14, 27, 24, 46, 36, 2, 30, 41, 32, 38, 10, 22]\n"
     ]
    }
   ],
   "source": [
    "deck = list(range(1,53))\n",
    "print(deck)\n",
    "\n",
    "print(\"===================================\")\n",
    "\n",
    "random.shuffle(deck)\n",
    "print(deck)\n"
   ]
  },
  {
   "cell_type": "markdown",
   "metadata": {},
   "source": [
    "Now as you can see the deck has been randomly shuffled with the values all in different places. If we then want to generate hands for the players to use we can use the sample method. The sample method takes the array which you want to look through and the number of samples you want to get from it."
   ]
  },
  {
   "cell_type": "code",
   "execution_count": 19,
   "metadata": {},
   "outputs": [
    {
     "name": "stdout",
     "output_type": "stream",
     "text": [
      "[47, 44, 15, 14, 9]\n"
     ]
    }
   ],
   "source": [
    "hand = random.sample(deck, k = 5)\n",
    "print(hand)"
   ]
  },
  {
   "cell_type": "markdown",
   "metadata": {},
   "source": [
    "## Conclusion"
   ]
  },
  {
   "cell_type": "markdown",
   "metadata": {},
   "source": [
    "Inside of this notebook I have examined numpy, the numpy random module and used matplotlib to visualize the data. Hopefully after reading this you will have a better understanding of each"
   ]
  },
  {
   "cell_type": "code",
   "execution_count": null,
   "metadata": {},
   "outputs": [],
   "source": []
  }
 ],
 "metadata": {
  "kernelspec": {
   "display_name": "Python 3",
   "language": "python",
   "name": "python3"
  },
  "language_info": {
   "codemirror_mode": {
    "name": "ipython",
    "version": 3
   },
   "file_extension": ".py",
   "mimetype": "text/x-python",
   "name": "python",
   "nbconvert_exporter": "python",
   "pygments_lexer": "ipython3",
   "version": "3.6.5"
  }
 },
 "nbformat": 4,
 "nbformat_minor": 2
}
